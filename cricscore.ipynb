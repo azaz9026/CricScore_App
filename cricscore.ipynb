{
 "cells": [
  {
   "cell_type": "code",
   "execution_count": null,
   "metadata": {},
   "outputs": [],
   "source": []
  },
  {
   "cell_type": "code",
   "execution_count": null,
   "metadata": {},
   "outputs": [],
   "source": [
    "# Main function to start the application\n",
    "\n",
    "def main():\n",
    "    # start the GUI Window\n",
    "\n",
    "\n",
    "    # Fetch the cricket score\n",
    "\n",
    "\n",
    "    # keep on displaying the GUI window to fetch the live updates\n",
    "\n",
    "    \n",
    "     "
   ]
  }
 ],
 "metadata": {
  "language_info": {
   "name": "python"
  }
 },
 "nbformat": 4,
 "nbformat_minor": 2
}
